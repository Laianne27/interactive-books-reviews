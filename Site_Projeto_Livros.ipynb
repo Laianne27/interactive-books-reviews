{
  "nbformat": 4,
  "nbformat_minor": 0,
  "metadata": {
    "colab": {
      "private_outputs": true,
      "provenance": []
    },
    "kernelspec": {
      "name": "python3",
      "display_name": "Python 3"
    },
    "language_info": {
      "name": "python"
    }
  },
  "cells": [
    {
      "cell_type": "code",
      "execution_count": null,
      "metadata": {
        "collapsed": true,
        "id": "g_qs4fy3KmYH"
      },
      "outputs": [],
      "source": [
        "!pip install streamlit pyngrok\n"
      ]
    },
    {
      "cell_type": "code",
      "source": [
        "!ngrok config add-authtoken 2mnI0phxGOCQyss8cUZ5logborU_7BiM8dAzz31WMeFes1PU2"
      ],
      "metadata": {
        "id": "6QIVMHldTj4V"
      },
      "execution_count": null,
      "outputs": []
    },
    {
      "cell_type": "code",
      "source": [
        "from pyngrok import ngrok\n",
        "\n",
        "# Use 'addr' instead of 'port' for HTTPv2Tunnel\n",
        "public_url = ngrok.connect(addr='8501')\n",
        "print(public_url)"
      ],
      "metadata": {
        "id": "UrdRzfpLWYms"
      },
      "execution_count": null,
      "outputs": []
    },
    {
      "cell_type": "code",
      "source": [
        "%%writefile app.py\n",
        "import streamlit as st\n",
        "import pandas as pd\n",
        "import plotly.express as px\n",
        "\n",
        "# Configurando o layout da página como \"wide\" para usar toda a largura da tela\n",
        "st.set_page_config(layout=\"wide\")\n",
        "\n",
        "# Função para a Página 1\n",
        "def pagina1():\n",
        "\n",
        "    # Título da página 1\n",
        "    st.title('Top-100 Trending Books')\n",
        "\n",
        "    # Carregando os datasets de reviews e os 100 livros mais populares\n",
        "\n",
        "    df_top100_books = pd.read_csv(\"C:\\Users\\Cliente\\Documents\\Tecnologia\\Python\\interactive-books-reviews/Top-100 Trending Books.csv\")\n",
        "\n",
        "    # Calculando os valores mínimo e máximo de preços dos livros\n",
        "    price_max = df_top100_books[\"book price\"].max()\n",
        "    price_min = df_top100_books[\"book price\"].min()\n",
        "\n",
        "    # Slider na barra lateral para permitir ao usuário selecionar uma faixa de preço\n",
        "    # O valor máximo inicial do slider é definido como o preço máximo dos livros\n",
        "    max_price = st.sidebar.slider(\"Price Range\", price_min,\n",
        "                          price_max, price_max, format=\"$%f\")\n",
        "\n",
        "    # Filtrando o dataframe para exibir apenas os livros com preço abaixo do valor selecionado\n",
        "    df_books = df_top100_books[df_top100_books[\"book price\"] <= max_price]\n",
        "\n",
        "    # Exibindo os dados filtrados em um dataframe interativo\n",
        "    st.dataframe(df_books)\n",
        "\n",
        "    # Criando dois gráficos com Plotly: um gráfico de barras para o ano de publicação\n",
        "    # e um histograma para a distribuição de preços\n",
        "    fig = px.bar(df_books[\"year of publication\"].value_counts().sort_index())\n",
        "    fig2 = px.histogram(df_books[\"book price\"])\n",
        "\n",
        "    # Criando duas colunas lado a lado para exibir os gráficos\n",
        "    col1, col2 = st.columns(2)\n",
        "    col1.plotly_chart(fig)  # Exibindo o gráfico de barras na primeira coluna\n",
        "    col2.plotly_chart(fig2)  # Exibindo o histograma de preços na segunda coluna\n",
        "\n",
        "# Função para a Página 2\n",
        "def pagina2():\n",
        "\n",
        "    # Carregando os datasets de reviews e os 100 livros mais populares\n",
        "    df_reviews = pd.read_csv(\"C:\\Users\\Cliente\\Documents\\Tecnologia\\Python\\interactive-books-reviews/customer reviews.csv\")\n",
        "\n",
        "    # Obtendo a lista de livros únicos para exibir no selectbox (caixa de seleção)\n",
        "    books = df_top100_books[\"book title\"].unique()[::-1]  # Invertendo a lista para exibir na ordem reversa\n",
        "\n",
        "    # Selectbox na barra lateral para selecionar um livro\n",
        "    book = st.sidebar.selectbox(\"Books\", books)\n",
        "\n",
        "    # Filtrando o dataframe dos livros e dos reviews para o livro selecionado\n",
        "    df_book = df_top100_books[df_top100_books[\"book title\"] == book]\n",
        "    df_reviews_f = df_reviews[df_reviews[\"book name\"] == book]\n",
        "\n",
        "    # Extraindo as informações do livro selecionado para exibir na página\n",
        "    book_title = df_book[\"book title\"].iloc[0]  # Título do livro\n",
        "    book_genre = df_book[\"genre\"].iloc[0]  # Gênero do livro\n",
        "    book_price = f\"$ {df_book['book price'].iloc[0]}\"  # Preço do livro formatado\n",
        "    book_rating = df_book['rating'].iloc[0]  # Avaliação do livro\n",
        "    book_year = df_book['year of publication'].iloc[0]  # Ano de publicação\n",
        "\n",
        "    # Exibindo o título do livro como título da página\n",
        "    st.title(book_title)\n",
        "    # Exibindo o gênero do livro como subtítulo\n",
        "    st.header(book_genre)\n",
        "\n",
        "    # Criando três colunas para exibir informações sobre o preço, avaliação e ano de publicação\n",
        "    col1, col2, col3 = st.columns([1, 1, 3])\n",
        "    col1.metric(\"Price\", book_price)  # Exibindo o preço\n",
        "    col2.metric(\"Rating\", book_rating)  # Exibindo a avaliação\n",
        "    col3.metric(\"Year of Publication\", book_year)  # Exibindo o ano de publicação\n",
        "\n",
        "    # Adicionando um divisor para separar a seção de detalhes do livro dos reviews\n",
        "    st.divider()\n",
        "\n",
        "    # Exibindo as reviews para o livro selecionado\n",
        "    # Iterando sobre as reviews e exibindo cada uma como uma mensagem de chat\n",
        "    for row in df_reviews_f.values:\n",
        "      message = st.chat_message(f\"{row[4]}\")  # Nome do usuário\n",
        "      message.markdown(f\"#### {row[2]}\")  # Título da review\n",
        "      message.write(row[5])  # Conteúdo da review\n",
        "\n",
        "# Menu lateral para selecionar a página\n",
        "st.sidebar.title('Navegação')\n",
        "# Selectbox para escolher entre as duas páginas: 'Top-100 Trending Books' e 'Books Reviews'\n",
        "pagina_selecionada = st.sidebar.selectbox('Selecione uma página', ['Top-100 Trending Books', 'Books Reviews'])\n",
        "\n",
        "# Exibir a página selecionada\n",
        "if pagina_selecionada == 'Top-100 Trending Books':\n",
        "    pagina1()  # Carregar a função correspondente à página 1\n",
        "elif pagina_selecionada == 'Books Reviews':\n",
        "    pagina2()  # Carregar a função correspondente à página 2"
      ],
      "metadata": {
        "id": "cvId4kg74Bod"
      },
      "execution_count": null,
      "outputs": []
    },
    {
      "cell_type": "code",
      "source": [
        "!streamlit run app.py &> /dev/null &\n"
      ],
      "metadata": {
        "id": "NDJmMpmWP7CF"
      },
      "execution_count": null,
      "outputs": []
    }
  ]
}